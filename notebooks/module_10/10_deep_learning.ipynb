{
 "cells": [
  {
   "cell_type": "code",
   "execution_count": 1,
   "id": "aba5c6b2-2207-4f2d-8abe-3b4cc2cf1f6c",
   "metadata": {},
   "outputs": [],
   "source": [
    "import matplotlib.pyplot as plt\n",
    "import torch\n",
    "import torchvision\n",
    "from torch import nn"
   ]
  },
  {
   "cell_type": "markdown",
   "id": "114272a8-7c73-40d6-b130-fad1ae13605f",
   "metadata": {},
   "source": [
    "# Digit Classification with PyTorch"
   ]
  },
  {
   "cell_type": "markdown",
   "id": "79b005bb-1ea8-4960-a863-bb40bed61693",
   "metadata": {},
   "source": [
    "In this notebook we will go over how to define a simple [LeNet-5](http://yann.lecun.com/exdb/publis/pdf/lecun-01a.pdf) style network to classify images containing a single digit. This notebook is adapted from the [quickstart tutorial](https://pytorch.org/tutorials/beginner/basics/quickstart_tutorial.html) on pytorch.org."
   ]
  },
  {
   "cell_type": "markdown",
   "id": "9b07bc9c-a089-4a2f-bbc3-1b6fe77b1f20",
   "metadata": {},
   "source": [
    "Load datasets and create data loaders."
   ]
  },
  {
   "cell_type": "code",
   "execution_count": 2,
   "id": "ca697d6d-2c0c-416a-98d8-d677a26ed7a7",
   "metadata": {},
   "outputs": [],
   "source": [
    "from torchvision.transforms import ToTensor\n",
    "\n",
    "train_dataset = torchvision.datasets.MNIST(\n",
    "    root='data', train=True, download=True, transform=ToTensor())\n",
    "test_dataset = torchvision.datasets.MNIST(\n",
    "    root='data', train=False, download=True, transform=ToTensor())\n",
    "\n",
    "train_loader = torch.utils.data.DataLoader(train_dataset, batch_size=64)\n",
    "test_loader = torch.utils.data.DataLoader(test_dataset, batch_size=64)"
   ]
  },
  {
   "cell_type": "markdown",
   "id": "18b217d4-47d1-4f29-a14d-0d634abd25bd",
   "metadata": {},
   "source": [
    "Visualize sample training data."
   ]
  },
  {
   "cell_type": "code",
   "execution_count": 3,
   "id": "c5f09dff-8904-4730-a9da-e1bac4ab08d8",
   "metadata": {},
   "outputs": [
    {
     "data": {
      "image/png": "[encoded data removed]",
      "text/plain": [
       "<Figure size 1080x216 with 5 Axes>"
      ]
     },
     "metadata": {
      "needs_background": "light"
     },
     "output_type": "display_data"
    }
   ],
   "source": [
    "import random\n",
    "\n",
    "n_samples = 5\n",
    "fix, axs = plt.subplots(1, n_samples, figsize=(15, 3))\n",
    "idxs = random.sample(range(len(train_dataset)), n_samples)\n",
    "for i, idx in enumerate(idxs):\n",
    "    x, y = train_dataset[idx]\n",
    "    axs[i].imshow(x[0], cmap='gray')\n",
    "    axs[i].set_title(f'Label: {y}')\n",
    "plt.show()"
   ]
  },
  {
   "cell_type": "markdown",
   "id": "7b3d7418-4417-43e9-8cfd-07b5c04cf328",
   "metadata": {},
   "source": [
    "Define and create a simple neural network."
   ]
  },
  {
   "cell_type": "code",
   "execution_count": 4,
   "id": "737d9bef-0caa-42f4-b751-c30ae4c7f4a4",
   "metadata": {},
   "outputs": [
    {
     "name": "stdout",
     "output_type": "stream",
     "text": [
      "NeuralNet(\n",
      "  (flatten): Flatten(start_dim=1, end_dim=-1)\n",
      "  (layers): Sequential(\n",
      "    (0): Linear(in_features=784, out_features=256, bias=True)\n",
      "    (1): ReLU()\n",
      "    (2): Linear(in_features=256, out_features=10, bias=True)\n",
      "  )\n",
      ")\n"
     ]
    }
   ],
   "source": [
    "device = 'cuda' if torch.cuda.is_available() else 'cpu'\n",
    "\n",
    "\n",
    "class NeuralNet(nn.Module):\n",
    "    def __init__(self):\n",
    "        super().__init__()\n",
    "        self.flatten = nn.Flatten()\n",
    "        self.layers = nn.Sequential(\n",
    "            nn.Linear(28*28, 256),\n",
    "            nn.ReLU(),\n",
    "            nn.Linear(256, 10)\n",
    "        )\n",
    "\n",
    "    def forward(self, x):\n",
    "        x = self.flatten(x)\n",
    "        logits = self.layers(x)\n",
    "        return logits\n",
    "\n",
    "\n",
    "model = NeuralNet().to(device)\n",
    "print(model)"
   ]
  },
  {
   "cell_type": "markdown",
   "id": "07e83192-19d8-4a0c-a151-d5b3ff6ef8d0",
   "metadata": {},
   "source": [
    "Choose the loss function and the optimizer."
   ]
  },
  {
   "cell_type": "code",
   "execution_count": 5,
   "id": "3a153b11-98b8-4936-87bd-ec322490fe8e",
   "metadata": {},
   "outputs": [],
   "source": [
    "loss_fn = nn.CrossEntropyLoss()\n",
    "optimizer = torch.optim.SGD(model.parameters(), lr=1e-3)"
   ]
  },
  {
   "cell_type": "markdown",
   "id": "756912be-c721-4765-9185-a4abd35036c8",
   "metadata": {},
   "source": [
    "Define the training loop and the testing loop."
   ]
  },
  {
   "cell_type": "code",
   "execution_count": 6,
   "id": "a29af059-10e6-414d-80e4-ce3f3f2dbd77",
   "metadata": {
    "tags": []
   },
   "outputs": [],
   "source": [
    "def train(dataloader, model, loss_fn, optimizer):\n",
    "    size = len(dataloader.dataset)\n",
    "    model.train()\n",
    "    for i, (inp, label) in enumerate(dataloader):\n",
    "        inp, label = inp.to(device), label.to(device)\n",
    "        \n",
    "        pred = model(inp)\n",
    "        loss = loss_fn(pred, label)\n",
    "        \n",
    "        optimizer.zero_grad()\n",
    "        loss.backward()\n",
    "        optimizer.step()\n",
    "        \n",
    "        if (i+1) % 100 == 0:\n",
    "            loss, seen = loss.item(), (i+1) * len(inp)\n",
    "            print(f\"[{seen:>5d}/{size:>5d}] loss: {loss:>7f}\")\n",
    "\n",
    "            \n",
    "def test(dataloader, model):\n",
    "    size = len(dataloader.dataset)\n",
    "    model.eval()\n",
    "    correct = 0\n",
    "    with torch.no_grad():\n",
    "        for inp, label in dataloader:\n",
    "            inp, label = inp.to(device), label.to(device)\n",
    "            pred = model(inp)\n",
    "            correct += (pred.argmax(1) == label).type(torch.float).sum().item()\n",
    "    accuracy = correct / size\n",
    "    print(f\"Test accuracy: {accuracy*100:>6.3f}\\n\")"
   ]
  },
  {
   "cell_type": "markdown",
   "id": "b76ad97d-e8ca-4bb7-a979-9b8bb3dee63d",
   "metadata": {},
   "source": [
    "Run training and testing."
   ]
  },
  {
   "cell_type": "code",
   "execution_count": 7,
   "id": "584b8068-d6df-46be-ace6-2416b3814dbd",
   "metadata": {},
   "outputs": [
    {
     "name": "stdout",
     "output_type": "stream",
     "text": [
      "Epoch 1\n",
      "----------------------------------------\n",
      "[ 6400/60000] loss: 2.289689\n",
      "[12800/60000] loss: 2.259674\n",
      "[19200/60000] loss: 2.262923\n",
      "[25600/60000] loss: 2.210174\n",
      "[32000/60000] loss: 2.207281\n",
      "[38400/60000] loss: 2.201024\n",
      "[44800/60000] loss: 2.169732\n",
      "[51200/60000] loss: 2.155354\n",
      "[57600/60000] loss: 2.106178\n",
      "Test accuracy: 57.590\n",
      "\n",
      "Epoch 2\n",
      "----------------------------------------\n",
      "[ 6400/60000] loss: 2.071312\n",
      "[12800/60000] loss: 2.049633\n",
      "[19200/60000] loss: 2.067945\n",
      "[25600/60000] loss: 1.975704\n",
      "[32000/60000] loss: 1.986210\n",
      "[38400/60000] loss: 1.988342\n",
      "[44800/60000] loss: 1.939918\n",
      "[51200/60000] loss: 1.915623\n",
      "[57600/60000] loss: 1.836683\n",
      "Test accuracy: 71.970\n",
      "\n",
      "Epoch 3\n",
      "----------------------------------------\n",
      "[ 6400/60000] loss: 1.786709\n",
      "[12800/60000] loss: 1.777168\n",
      "[19200/60000] loss: 1.808881\n",
      "[25600/60000] loss: 1.674593\n",
      "[32000/60000] loss: 1.696633\n",
      "[38400/60000] loss: 1.708554\n",
      "[44800/60000] loss: 1.646619\n",
      "[51200/60000] loss: 1.619447\n",
      "[57600/60000] loss: 1.512141\n",
      "Test accuracy: 77.140\n",
      "\n",
      "Epoch 4\n",
      "----------------------------------------\n",
      "[ 6400/60000] loss: 1.454968\n",
      "[12800/60000] loss: 1.477461\n",
      "[19200/60000] loss: 1.515632\n",
      "[25600/60000] loss: 1.350223\n",
      "[32000/60000] loss: 1.390998\n",
      "[38400/60000] loss: 1.418748\n",
      "[44800/60000] loss: 1.346090\n",
      "[51200/60000] loss: 1.331361\n",
      "[57600/60000] loss: 1.208551\n",
      "Test accuracy: 80.120\n",
      "\n",
      "Epoch 5\n",
      "----------------------------------------\n",
      "[ 6400/60000] loss: 1.152212\n",
      "[12800/60000] loss: 1.221664\n",
      "[19200/60000] loss: 1.256662\n",
      "[25600/60000] loss: 1.080811\n",
      "[32000/60000] loss: 1.142862\n",
      "[38400/60000] loss: 1.183451\n",
      "[44800/60000] loss: 1.101755\n",
      "[51200/60000] loss: 1.110783\n",
      "[57600/60000] loss: 0.976848\n",
      "Test accuracy: 82.280\n",
      "\n"
     ]
    }
   ],
   "source": [
    "for i in range(5):\n",
    "    print(f\"Epoch {i+1}\")\n",
    "    print(\"----------------------------------------\")\n",
    "    train(train_loader, model, loss_fn, optimizer)\n",
    "    test(test_loader, model)"
   ]
  },
  {
   "cell_type": "markdown",
   "id": "74ed51a4-dece-438d-8785-04eb342916d7",
   "metadata": {},
   "source": [
    "(1 point) What is the training loss at the very beginning of the training process? Why? (Hint: If we randomly pick a class as our prediction, what is the probability of it being correct?)"
   ]
  },
  {
   "cell_type": "code",
   "execution_count": 8,
   "id": "af09647a-1eaa-4323-8bcc-527c6ccb0bf3",
   "metadata": {},
   "outputs": [],
   "source": [
    "# Type your answer below.\n",
    "# "
   ]
  },
  {
   "cell_type": "markdown",
   "id": "0f2b9b96-57e0-4eab-bc6d-fe2d102e1f96",
   "metadata": {},
   "source": [
    "Check predictions on sample testing data."
   ]
  },
  {
   "cell_type": "code",
   "execution_count": 9,
   "id": "d6f66e71-7055-4d62-8a94-234f7f50a158",
   "metadata": {},
   "outputs": [
    {
     "data": {
      "image/png": "[encoded data removed]",
      "text/plain": [
       "<Figure size 1080x432 with 10 Axes>"
      ]
     },
     "metadata": {
      "needs_background": "light"
     },
     "output_type": "display_data"
    }
   ],
   "source": [
    "n_rows, n_cols = 2, 5\n",
    "fix, axs = plt.subplots(n_rows, n_cols, figsize=(15, 3*n_rows))\n",
    "idxs = random.sample(range(len(test_dataset)), n_rows * n_cols)\n",
    "for i, idx in enumerate(idxs):\n",
    "    ax = axs[i//n_cols, i%n_cols]\n",
    "    \n",
    "    x, y = test_dataset[idx]\n",
    "    ax.imshow(x[0], cmap='gray')\n",
    "    \n",
    "    x = x.unsqueeze(0).to(device)\n",
    "    model.eval()\n",
    "    with torch.no_grad():\n",
    "        pred = model(x)\n",
    "        pred_y = pred[0].argmax(0).item()\n",
    "        \n",
    "    ax.set_title(f'Label: {y}\\nPrediction: {pred_y}')\n",
    "plt.tight_layout()\n",
    "plt.show()"
   ]
  }
 ],
 "metadata": {
  "kernelspec": {
   "display_name": "Python 3 (ipykernel)",
   "language": "python",
   "name": "python3"
  },
  "language_info": {
   "codemirror_mode": {
    "name": "ipython",
    "version": 3
   },
   "file_extension": ".py",
   "mimetype": "text/x-python",
   "name": "python",
   "nbconvert_exporter": "python",
   "pygments_lexer": "ipython3",
   "version": "3.8.13"
  }
 },
 "nbformat": 4,
 "nbformat_minor": 5
}
