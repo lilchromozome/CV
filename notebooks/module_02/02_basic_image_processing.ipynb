{
 "cells": [
  {
   "cell_type": "code",
   "execution_count": 2,
   "id": "0ee95ae1-a6c5-41b3-a962-1a9924785c00",
   "metadata": {},
   "outputs": [],
   "source": [
    "%matplotlib inline\n",
    "import cv2\n",
    "import matplotlib.pyplot as plt\n",
    "import numpy as np"
   ]
  },
  {
   "cell_type": "markdown",
   "id": "d328e373-f26b-4ca7-9357-aa12670b8db3",
   "metadata": {},
   "source": [
    "# Basic Image Processing"
   ]
  },
  {
   "cell_type": "markdown",
   "id": "0021d4ce-c77c-4ac4-8df0-cd152b1198a8",
   "metadata": {},
   "source": [
    "## Convolutions in 1D"
   ]
  },
  {
   "cell_type": "markdown",
   "id": "70201aa0-edda-4bbd-ad24-c8799e8f186e",
   "metadata": {},
   "source": [
    "Two numpy arrays have been created for you."
   ]
  },
  {
   "cell_type": "code",
   "execution_count": 3,
   "id": "496a1208-1b50-454e-9255-292146546715",
   "metadata": {},
   "outputs": [],
   "source": [
    "f = np.array([9., 8., 1., 6., 7., 2., 8., 6.])\n",
    "h = np.array([2., 3., 1.])"
   ]
  },
  {
   "cell_type": "markdown",
   "id": "418352bb-02bf-4f7e-9f34-ec99c2be95be",
   "metadata": {},
   "source": [
    "(1 point) Calculate convolution f * h using `np.convolve()` without passing any optional parameter. Print the result."
   ]
  },
  {
   "cell_type": "code",
   "execution_count": null,
   "id": "a1d03d0e-8a71-4d1b-a5a0-32764cd6d83f",
   "metadata": {},
   "outputs": [],
   "source": []
  },
  {
   "cell_type": "markdown",
   "id": "53c06cde-b7d2-4907-ab58-9d6c1f79a367",
   "metadata": {},
   "source": [
    "(1 point) Recall from the slides that convolution is commutative. Show that this is the case by swapping the parameters, passing them to `np.convolve()` and print the result."
   ]
  },
  {
   "cell_type": "code",
   "execution_count": null,
   "id": "d8198355-bed7-40fe-8937-06cd2f9d2eae",
   "metadata": {},
   "outputs": [],
   "source": []
  },
  {
   "cell_type": "markdown",
   "id": "4f6f1e97-e9eb-46f9-9ab9-dc7ec16ffad9",
   "metadata": {},
   "source": [
    "(4 points) Implement your own version of 1D convolution below. When you are indexing an element outside the boundary of an input array, pad it with zero."
   ]
  },
  {
   "cell_type": "code",
   "execution_count": null,
   "id": "d573e601-6489-4817-9bdc-f5403403bfed",
   "metadata": {},
   "outputs": [],
   "source": [
    "def convolve(signal, kernel):\n",
    "    # TODO\n",
    "    return result"
   ]
  },
  {
   "cell_type": "markdown",
   "id": "50dca1c2-1cd1-4315-9e91-5cc4c422c57d",
   "metadata": {},
   "source": [
    "Now verify that your implementation gives the same results as Numpy."
   ]
  },
  {
   "cell_type": "code",
   "execution_count": null,
   "id": "e0cdf5de-c59b-4517-b1d4-90cb3cf6d943",
   "metadata": {},
   "outputs": [],
   "source": [
    "print(convolve(f, h))\n",
    "print(convolve(h, f))"
   ]
  },
  {
   "cell_type": "markdown",
   "id": "e6d25ff2-e300-4ad6-93d3-999c3928ee2b",
   "metadata": {},
   "source": [
    "## Smoothing Kernels"
   ]
  },
  {
   "cell_type": "markdown",
   "id": "2bf29429-3574-4f34-ae07-8a537d8bbcff",
   "metadata": {},
   "source": [
    "Load and display `data/sample.png`."
   ]
  },
  {
   "cell_type": "code",
   "execution_count": null,
   "id": "fe04cef7-cbab-4bd1-af0d-415198eb9a61",
   "metadata": {},
   "outputs": [],
   "source": [
    "img_path = 'data/sample.png'\n",
    "img = plt.imread(img_path)\n",
    "plt.imshow(img)\n",
    "plt.show()"
   ]
  },
  {
   "cell_type": "markdown",
   "id": "674dfe7b-877d-48f5-93e0-706f5a323f47",
   "metadata": {},
   "source": [
    "(2 points) Create a 21x21 \"box filter\". It should have data type `float32` and the sum of all weights should be 1.\n",
    "\n",
    "\"Smooth\" the sample image with this filter using `cv2.filter2D()` and display the result."
   ]
  },
  {
   "cell_type": "code",
   "execution_count": null,
   "id": "cfc9c757-0ba5-438c-906b-b633b1c607eb",
   "metadata": {},
   "outputs": [],
   "source": []
  },
  {
   "cell_type": "markdown",
   "id": "8b51aede-ba55-4dc9-a1f5-b6287336ff50",
   "metadata": {},
   "source": [
    "Filtering with box filters produces blocky artifacts. Let's try filtering the same image with a Gaussian filter instead. The following code cell creates a gaussian filter for you."
   ]
  },
  {
   "cell_type": "code",
   "execution_count": null,
   "id": "519c7f56-2e93-4700-a0c0-62a3be442ff6",
   "metadata": {},
   "outputs": [],
   "source": [
    "from scipy import signal\n",
    "\n",
    "def gaussian_kernel(kernel_size, sigma):\n",
    "    k1d = signal.windows.gaussian(kernel_size, std=sigma)\n",
    "    k2d = np.outer(k1d, k1d)\n",
    "    k2d /= np.sum(k2d)\n",
    "    return k2d\n",
    "\n",
    "kernel = gaussian_kernel(21, 7)\n",
    "plt.matshow(kernel)\n",
    "plt.colorbar()\n",
    "plt.show()"
   ]
  },
  {
   "cell_type": "markdown",
   "id": "b7c5b96e-e056-462f-adcd-ca0ec2e85c87",
   "metadata": {},
   "source": [
    "(1 point) Apply the filter to the same test image and show the result."
   ]
  },
  {
   "cell_type": "code",
   "execution_count": null,
   "id": "3a2d3fe6-aa77-4f1f-a42c-aba694aa81e3",
   "metadata": {},
   "outputs": [],
   "source": []
  },
  {
   "cell_type": "markdown",
   "id": "e8e3be3b-8815-4623-bf20-71923fb9690e",
   "metadata": {},
   "source": [
    "## Median Filtering"
   ]
  },
  {
   "cell_type": "markdown",
   "id": "9ed57973-39d2-40fe-a55c-d9cc49020663",
   "metadata": {},
   "source": [
    "Load and display `data/letter.png`."
   ]
  },
  {
   "cell_type": "code",
   "execution_count": null,
   "id": "132179f1-03af-4961-87c7-8a4283ededf8",
   "metadata": {},
   "outputs": [],
   "source": [
    "img_path = 'data/letter.png'\n",
    "img = plt.imread(img_path)\n",
    "plt.imshow(img, cmap='gray')\n",
    "plt.show()"
   ]
  },
  {
   "cell_type": "markdown",
   "id": "340a541f-58eb-4dbb-a488-c00ea27c77cc",
   "metadata": {},
   "source": [
    "(1 point) Filter the image with a Gaussian kernel of your choice. Display the result."
   ]
  },
  {
   "cell_type": "code",
   "execution_count": null,
   "id": "22019af2-787d-4e75-94c3-4f1800b982c6",
   "metadata": {},
   "outputs": [],
   "source": []
  },
  {
   "cell_type": "markdown",
   "id": "b23fc586-583f-481b-b8fc-476e05e1e2c2",
   "metadata": {},
   "source": [
    "(1 point) Is Gaussian filtering effective at removing the \"salt-and-pepper\" noise in the image?"
   ]
  },
  {
   "cell_type": "code",
   "execution_count": null,
   "id": "d46451b5-d218-46d7-8745-91786d0a3911",
   "metadata": {},
   "outputs": [],
   "source": [
    "# Type your answer below:\n",
    "# "
   ]
  },
  {
   "cell_type": "markdown",
   "id": "c1d73829-914a-49c1-b026-7c77edf4eb61",
   "metadata": {},
   "source": [
    "(4 points) Now, try implementing median filtering with kernel size 5x5. Apply it to the test image and show the result.\n",
    "\n",
    "You should manipulate the pixel values yourself using `np.median()` and may not call existing functions such as `cv.medianBlur()` or `scipy.ndimage.median_filter()`. It's fine if your implementation is not very efficient and takes several seconds to run."
   ]
  },
  {
   "cell_type": "code",
   "execution_count": null,
   "id": "798fbe69-3d7f-41b0-a8fe-7cf7879dcfd0",
   "metadata": {},
   "outputs": [],
   "source": []
  }
 ],
 "metadata": {
  "kernelspec": {
   "display_name": "cv2025",
   "language": "python",
   "name": "python3"
  },
  "language_info": {
   "codemirror_mode": {
    "name": "ipython",
    "version": 3
   },
   "file_extension": ".py",
   "mimetype": "text/x-python",
   "name": "python",
   "nbconvert_exporter": "python",
   "pygments_lexer": "ipython3",
   "version": "3.8.20"
  }
 },
 "nbformat": 4,
 "nbformat_minor": 5
}
