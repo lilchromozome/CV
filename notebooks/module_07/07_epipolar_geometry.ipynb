{
 "cells": [
  {
   "cell_type": "code",
   "execution_count": null,
   "metadata": {
    "id": "XZBLjVlNlgox"
   },
   "outputs": [],
   "source": [
    "%matplotlib inline\n",
    "import cv2\n",
    "import matplotlib.pyplot as plt\n",
    "import numpy as np\n",
    "from scipy import signal"
   ]
  },
  {
   "cell_type": "markdown",
   "metadata": {
    "id": "kgqGhZUDmz5y"
   },
   "source": [
    "# Epipolar Geometry"
   ]
  },
  {
   "cell_type": "markdown",
   "metadata": {
    "id": "mnsOTCvam3dI"
   },
   "source": [
    "In class we covered material for single and multi-camera systems. This notebook will help ground some of these geometric concepts."
   ]
  },
  {
   "cell_type": "markdown",
   "metadata": {},
   "source": [
    "## Camera Projection"
   ]
  },
  {
   "cell_type": "markdown",
   "metadata": {},
   "source": [
    "First, we'll define some helper functions."
   ]
  },
  {
   "cell_type": "code",
   "execution_count": null,
   "metadata": {
    "id": "XM5v1tZzq_7l"
   },
   "outputs": [],
   "source": [
    "def rot_x(t) :\n",
    "    \"\"\"Creates a 3D rotation matrix representing a rotation\n",
    "    about the x-axis by t radians.\"\"\"\n",
    "    return np.array([\n",
    "        [1,         0,          0],\n",
    "        [0, np.cos(t), -np.sin(t)],\n",
    "        [0, np.sin(t),  np.cos(t)]\n",
    "    ])\n",
    "\n",
    "def rot_y(t) :\n",
    "    \"\"\"Creates a 3D rotation matrix representing a rotation\n",
    "    about the y-axis by t radians.\"\"\"\n",
    "    return np.array([\n",
    "        [ np.cos(t), 0, np.sin(t)],\n",
    "        [         0, 1,         0],\n",
    "        [-np.sin(t), 0, np.cos(t)]\n",
    "    ])\n",
    "\n",
    "def rot_z(t) :\n",
    "    \"\"\"Creates a 3D rotation matrix representing a rotation\n",
    "    about the z-axis by t radians.\"\"\"\n",
    "    return np.array([\n",
    "        [np.cos(t), -np.sin(t), 0],\n",
    "        [np.sin(t),  np.cos(t), 0],\n",
    "        [        0,          0, 1]\n",
    "    ])\n",
    "\n",
    "def translation(x, y, z) :\n",
    "    \"\"\"Creates a 3D translation vector of shape 3x1.\"\"\"\n",
    "    return np.array([[x,y,z]]).T\n",
    "\n",
    "def transformation(R, t) :\n",
    "    \"\"\"Creates a 3D homogeneous transformation matrix\n",
    "    given a rotation matrix and a translation vector.\"\"\"\n",
    "    return np.concatenate([\n",
    "        np.concatenate((R, t), axis=1),\n",
    "        np.array([[0, 0, 0, 1]])\n",
    "    ])\n",
    "\n",
    "def intrinsic_matrix(fx, fy, ox, oy) :\n",
    "    \"\"\"Creates the 3x4 intrinsic matrix given camera parameters.\"\"\"\n",
    "    return np.array([\n",
    "        [fx,  0, ox, 0],\n",
    "        [ 0, fy, oy, 0],\n",
    "        [ 0,  0,  1, 0],\n",
    "    ])"
   ]
  },
  {
   "cell_type": "markdown",
   "metadata": {
    "id": "bcPPA9g2pO3x"
   },
   "source": [
    "Let's first define some points in 3D and visualize them."
   ]
  },
  {
   "cell_type": "code",
   "execution_count": null,
   "metadata": {
    "colab": {
     "base_uri": "https://localhost:8080/",
     "height": 265
    },
    "id": "zLV-RSixjrGs",
    "outputId": "45cf8f0d-0f1f-448c-b66b-469138c61111"
   },
   "outputs": [],
   "source": [
    "pts = np.array([\n",
    "    [  26.121,  32.847, 1005.353, 1.],\n",
    "    [ -44.027,  30.439,  973.450, 1.],\n",
    "    [ -46.379, -13.096,  985.124, 1.],\n",
    "    [  30.911,  34.686, 1030.866, 1.],\n",
    "    [   4.990, -46.464, 1048.179, 1.],\n",
    "    [  27.133, -28.476, 1014.759, 1.],\n",
    "    [ -47.045, -45.281,  972.736, 1.],\n",
    "    [  14.218, -26.843,  967.712, 1.],\n",
    "    [  28.478,   2.358,  978.545, 1.],\n",
    "    [  41.695,  36.650, 1009.917, 1.],\n",
    "    [   7.024, -22.803,  964.057, 1.],\n",
    "    [ -12.522,  45.107,  970.331, 1.],\n",
    "    [  -7.957,  36.629,  974.575, 1.],\n",
    "    [ -27.472, -30.949,  960.675, 1.],\n",
    "    [  16.020, -17.619, 1047.176, 1.],\n",
    "    [ -38.449, -48.483, 1045.377, 1.],\n",
    "    [   8.596, -21.297,  982.135, 1.],\n",
    "    [  44.768,   1.136, 1034.768, 1.],\n",
    "    [ -13.129,   9.305, 1022.283, 1.],\n",
    "    [   3.906,  32.476, 1027.867, 1.],\n",
    "]).T\n",
    "xs, ys, zs, _ = np.split(pts, 4, axis=0)\n",
    "\n",
    "# Plot these points.\n",
    "colors = plt.cm.rainbow(np.linspace(0, 1, pts.shape[1]))\n",
    "fig = plt.figure(figsize=(12, 8))\n",
    "ax = fig.add_subplot(111, projection='3d')\n",
    "ax.scatter(xs, ys, zs=zs, s=20, c=colors)\n",
    "ax.set_xlabel('x'); ax.set_ylabel('y'); ax.set_zlabel('z')\n",
    "plt.show()"
   ]
  },
  {
   "cell_type": "markdown",
   "metadata": {
    "id": "V4jHqcJKtVkb"
   },
   "source": [
    "(3 points) With the helper functions, do the following:\n",
    "- Create an intrinsic matrix $M$ with parameters $f_x=f_y=1000$, $o_x=52.2$, $o_y=55.3$.\n",
    "- Create an extrinsic matrix $H$ with no rotation and a translation $(x, y, z) = (42, 33, 1000)$.\n",
    "- Using $M$ and $H$, create a projection matrix $P$. Print $P$."
   ]
  },
  {
   "cell_type": "code",
   "execution_count": null,
   "metadata": {
    "colab": {
     "base_uri": "https://localhost:8080/",
     "height": 68
    },
    "id": "Tr-xvJ7buoOT",
    "outputId": "5256ebe9-71c5-4667-9714-e49ec0bc58a6"
   },
   "outputs": [],
   "source": [
    "# TODO\n",
    "\n",
    "np.set_printoptions(precision=5, suppress=True)\n",
    "print(P)"
   ]
  },
  {
   "cell_type": "markdown",
   "metadata": {
    "id": "bwu3dh1N0sEA"
   },
   "source": [
    "(1 points) In the cell below, project the 3D points `pts` to 2D using this projection matrix and store the resulting pixel coordinates into `pxs`. Remember that the results are in homogeneous coordinates, so you will need to normalize each pixel such that $w=1$ for hoomogeneous coordinate $(u, v, w)$."
   ]
  },
  {
   "cell_type": "code",
   "execution_count": null,
   "metadata": {
    "colab": {
     "base_uri": "https://localhost:8080/",
     "height": 265
    },
    "id": "1kUEbvxavTQD",
    "outputId": "ee312324-8142-4c6f-840d-7508fbf0e6ac"
   },
   "outputs": [],
   "source": [
    "pxs = \n",
    "\n",
    "# Plot these points\n",
    "fig = plt.figure()\n",
    "plt.scatter(pxs[0], pxs[1], s=10, c=colors)\n",
    "plt.gca().invert_yaxis()\n",
    "plt.xlabel('u'); plt.ylabel('v')\n",
    "plt.axis('equal')\n",
    "plt.show()"
   ]
  },
  {
   "cell_type": "markdown",
   "metadata": {
    "id": "LldzxXYp1A0d"
   },
   "source": [
    "(1 point) Why did we invert the y axis here?"
   ]
  },
  {
   "cell_type": "code",
   "execution_count": null,
   "metadata": {},
   "outputs": [],
   "source": [
    "# Type your answer below.\n",
    "# "
   ]
  },
  {
   "cell_type": "markdown",
   "metadata": {
    "id": "w5N9JsC_1DIV"
   },
   "source": [
    "Let's now compare the 2D projections with the 3D points viewd from the corresponding viewpoint."
   ]
  },
  {
   "cell_type": "code",
   "execution_count": null,
   "metadata": {
    "colab": {
     "base_uri": "https://localhost:8080/",
     "height": 466
    },
    "id": "BRKx6lCHwPRL",
    "outputId": "1a91c17a-d881-45b1-e29b-017b08e0d37a"
   },
   "outputs": [],
   "source": [
    "# Plot pts again but with a different viewpoint.\n",
    "fig = plt.figure(figsize=(12, 8))\n",
    "ax = fig.add_subplot(111, projection='3d')\n",
    "ax.scatter(xs, ys, zs=zs, s=20, c=colors)\n",
    "ax.view_init(elev=-90, azim=-90)\n",
    "ax.set_xlabel('x'); ax.set_ylabel('y'); ax.set_zlabel('z')\n",
    "plt.show()"
   ]
  },
  {
   "cell_type": "markdown",
   "metadata": {
    "id": "zYmdlls5_AcF"
   },
   "source": [
    "## Epipolar Geometry"
   ]
  },
  {
   "cell_type": "markdown",
   "metadata": {
    "id": "lMn8ygXotcwZ"
   },
   "source": [
    "Now that we're more confident with single camera geometry, let's try relate the geometries and the viewpoints of two cameras.\n",
    "\n",
    "(1 point) For camera 1, create an intrinsic matrix with parameters $f_x=f_y=1000$, $o_x=35$, $o_y=55.3$, an extrinsic matrix with a y-axis rotation by -0.3 radians, and a translation vector of $(280, 33, 1000)$. Calculate the resulting projection matrix.\n",
    "\n",
    "Project the same 3D points in the previous section into the view of this camera, and plot these pixel coordinates with the same colors by setting `c=colors`. Remember to invert the y-axis."
   ]
  },
  {
   "cell_type": "code",
   "execution_count": null,
   "metadata": {
    "colab": {
     "base_uri": "https://localhost:8080/",
     "height": 265
    },
    "id": "9396tWlYFb_N",
    "outputId": "0591501f-01f7-4121-9f26-908d64ab67b3"
   },
   "outputs": [],
   "source": []
  },
  {
   "cell_type": "markdown",
   "metadata": {
    "id": "ZlIe1WaKuzzc"
   },
   "source": [
    "(1 point) Now do the same for 2 with intrinsic parameters $s_x=s_y=1000$, $o_x=35$, $o_y=55.3$, whereas the extrinsic matrix is defined by a y-axis rotation by 0.3 radians, and a translation vector of $[390, 33, 1000]$."
   ]
  },
  {
   "cell_type": "code",
   "execution_count": null,
   "metadata": {
    "colab": {
     "base_uri": "https://localhost:8080/",
     "height": 265
    },
    "id": "ecQkIIQLF0fT",
    "outputId": "c0d039ab-7c02-4dd3-99fc-d5f2291ff9a2"
   },
   "outputs": [],
   "source": []
  },
  {
   "cell_type": "markdown",
   "metadata": {
    "id": "Tmwrp2dou-t1"
   },
   "source": [
    "Now we have the pixel coordiantes in both images and their correspondence, we can solve for the fundamental matrix, which relates pixel coordinates from one image to another.\n",
    "\n",
    "(2 points) Below, fill in the matrix $A$ following the slides."
   ]
  },
  {
   "cell_type": "code",
   "execution_count": null,
   "metadata": {
    "id": "yeoBPfYvKOa9"
   },
   "outputs": [],
   "source": []
  },
  {
   "cell_type": "markdown",
   "metadata": {
    "id": "THnrTDH6vUV8"
   },
   "source": [
    "(2 points) Solve for the fundamental matrix given that $Af=0$, and print out the fundamental matrix $F$. You should already know how to solve this after solving a similar problem in the notebook for module 6."
   ]
  },
  {
   "cell_type": "code",
   "execution_count": null,
   "metadata": {},
   "outputs": [],
   "source": []
  },
  {
   "cell_type": "markdown",
   "metadata": {
    "id": "9NLTaPJdvs1m"
   },
   "source": [
    "(1 point) Given the two camera calibration matrices and the fundamental matrix $F$, calculate the essential matrix $E$ and print the result."
   ]
  },
  {
   "cell_type": "code",
   "execution_count": null,
   "metadata": {
    "colab": {
     "base_uri": "https://localhost:8080/",
     "height": 68
    },
    "id": "gzpfEbMGWNse",
    "outputId": "5d35fdd4-ff25-4522-8ac4-6aefdcd67225"
   },
   "outputs": [],
   "source": []
  },
  {
   "cell_type": "markdown",
   "metadata": {},
   "source": [
    "Using the essential matrix $E$ we could recover $R$ and $t$ between the cameras using SVD. However, there are some nuances about the sign of results in this process and we could get 4 possible solutions for $R$. (For more details, check section 11.3 of the 2nd edition of [Richard Szeliski's book](https://szeliski.org/Book/).) For simplicity, in the cell below we will only show that one of the solutions matches the actual rotation we used to construct our camera projection matrices."
   ]
  },
  {
   "cell_type": "code",
   "execution_count": null,
   "metadata": {},
   "outputs": [],
   "source": [
    "# Print the actual rotation matrix we used.\n",
    "R = rot_y(-0.6)\n",
    "print(R)"
   ]
  },
  {
   "cell_type": "code",
   "execution_count": null,
   "metadata": {},
   "outputs": [],
   "source": [
    "# Recover R from E.\n",
    "u, s, vh = np.linalg.svd(E)\n",
    "\n",
    "R1 =  u @ rot_z(np.pi/2) @ vh\n",
    "print(np.allclose(R, R1))\n",
    "\n",
    "R2 = -u @ rot_z(np.pi/2) @ vh\n",
    "print(np.allclose(R, R2))\n",
    "\n",
    "R3 =  u @ rot_z(-np.pi/2) @ vh\n",
    "print(np.allclose(R, R3))\n",
    "\n",
    "R4 = -u @ rot_z(-np.pi/2) @ vh\n",
    "print(np.allclose(R, R4))"
   ]
  }
 ],
 "metadata": {
  "colab": {
   "collapsed_sections": [
    "TgFDOQD0mxL2"
   ],
   "name": "Answers (Week 8) Camera Geometry.ipynb",
   "provenance": []
  },
  "kernelspec": {
   "display_name": "Python 3 (ipykernel)",
   "language": "python",
   "name": "python3"
  },
  "language_info": {
   "codemirror_mode": {
    "name": "ipython",
    "version": 3
   },
   "file_extension": ".py",
   "mimetype": "text/x-python",
   "name": "python",
   "nbconvert_exporter": "python",
   "pygments_lexer": "ipython3",
   "version": "3.8.13"
  }
 },
 "nbformat": 4,
 "nbformat_minor": 4
}
