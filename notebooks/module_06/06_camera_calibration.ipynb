{
 "cells": [
  {
   "cell_type": "code",
   "execution_count": null,
   "metadata": {
    "id": "RPenj5Yxj0mO"
   },
   "outputs": [],
   "source": [
    "%matplotlib inline\n",
    "import cv2\n",
    "import matplotlib.pyplot as plt\n",
    "import numpy as np\n",
    "\n",
    "plt.rcParams['figure.figsize'] = (12, 9)"
   ]
  },
  {
   "cell_type": "markdown",
   "metadata": {
    "id": "OsEv_O527qu8"
   },
   "source": [
    "# Camera Calibration"
   ]
  },
  {
   "cell_type": "markdown",
   "metadata": {
    "id": "6Y29w4PT8JgT"
   },
   "source": [
    "In this notebook we will explore a quick example of camera calibration using a 3D object.\n",
    "\n",
    "First, load the image."
   ]
  },
  {
   "cell_type": "code",
   "execution_count": null,
   "metadata": {
    "colab": {
     "base_uri": "https://localhost:8080/",
     "height": 286
    },
    "id": "7vfZC53h-YDP",
    "outputId": "07db54c8-d464-4b8b-9a72-be141b4396d2"
   },
   "outputs": [],
   "source": [
    "img_path = 'data/checkerboard.png'\n",
    "img = plt.imread(img_path)[:, :, :3]\n",
    "\n",
    "plt.imshow(img)\n",
    "plt.show()"
   ]
  },
  {
   "cell_type": "markdown",
   "metadata": {
    "id": "1ZT3GwBRYu_l"
   },
   "source": [
    "Calibration works by relating pixel coordinates on the image to real world coordinates in some world frame. In order to do this, we need to find points in the image of which we know the real world coordinates. Calibration objects are nice in that they have well defined features that can serve as these points, with measured coordinates for these features. Shown above is our calibration object. Each smaller square has dimensions 18mm x 18mm.\n",
    "\n",
    "(2 points) Convert the image to grayscale, and use OpenCV's `cv2.cornerHarris()` to find the corners of the pattern in the calibration object. `cv2.cornerHarris()` returns a heatmap of \"cornerness\" scores. Pick a threshold on the scores. Display the thresholded scores by making a copy of the heatmap, setting all pixels with strong response to 1.0 and others to 0.0."
   ]
  },
  {
   "cell_type": "code",
   "execution_count": null,
   "metadata": {
    "colab": {
     "base_uri": "https://localhost:8080/",
     "height": 504
    },
    "id": "XWdTad4au7Um",
    "outputId": "be7827f2-4619-4308-f824-78c24f80c398"
   },
   "outputs": [],
   "source": []
  },
  {
   "cell_type": "markdown",
   "metadata": {
    "id": "uvITs4GaaQoY"
   },
   "source": [
    "Now that we have found the corners of the object, we need to know the pixel coordinates and the coordinates in the real world. Below are pixel coordinates corresponding to six of the corners of the calibration object. We can mark their locations in the image."
   ]
  },
  {
   "cell_type": "code",
   "execution_count": null,
   "metadata": {
    "colab": {
     "base_uri": "https://localhost:8080/",
     "height": 504
    },
    "id": "LCjs2tvmxn0H",
    "outputId": "aba92497-8ab1-4bcb-b10e-258dc545c5d0"
   },
   "outputs": [],
   "source": [
    "corners = [\n",
    "    (648, 789),\n",
    "    (729, 690),\n",
    "    (519, 753),\n",
    "    (1044, 770),\n",
    "    (976, 899),\n",
    "    (908, 445),\n",
    "]\n",
    "\n",
    "plt.imshow(img)\n",
    "for x, y in corners:\n",
    "    plt.plot(x, y, color=(0, 1, 0), marker='o', markersize=10)\n",
    "plt.show()"
   ]
  },
  {
   "cell_type": "markdown",
   "metadata": {
    "id": "sgDZGH_Caf-2"
   },
   "source": [
    "Now we have the pixel coordinates, we need the corresponding real world coordinates for those corners. Below are the real world coordinates for the corners (in the same order)."
   ]
  },
  {
   "cell_type": "code",
   "execution_count": null,
   "metadata": {
    "id": "FKNyLq6Izg9S"
   },
   "outputs": [],
   "source": [
    "# Real world coordinates in (x, y, z).\n",
    "locations = [\n",
    "    (0, 90, 36),\n",
    "    (0, 72, 18),\n",
    "    (0, 90, 72),\n",
    "    (54, 90, 0),\n",
    "    (36, 108, 0),\n",
    "    (18, 36, 0),\n",
    "]"
   ]
  },
  {
   "cell_type": "markdown",
   "metadata": {
    "id": "nTmYIXisa36A"
   },
   "source": [
    "(2 points) Now that we have the real world coordinates and the pixel coordinates, we can find $p$, the projection matrix. To do this, we can set up the equation $Ap=0$ in the slides. Set up $A$ below. Refer to the slides in the lecture on how to construct $A$."
   ]
  },
  {
   "cell_type": "code",
   "execution_count": null,
   "metadata": {
    "id": "QmkgnVtU0NfJ"
   },
   "outputs": [],
   "source": []
  },
  {
   "cell_type": "markdown",
   "metadata": {
    "id": "CUFDneV1bRtK"
   },
   "source": [
    "A trivial solution is when the projection matrix is all zeros, but that obviously isn't useful for us. Additionally, since our input data may be noisy, there may not be a perfect $p$ that exactly satisfies $Ap=0$. Hence we want to find the least squares solution. As shown in the appendix of the lecture slides, the eigenvector $p$ with the smallest eigenvalue $\\lambda$ of matrix $A^T A$ is the solution to our problem.\n",
    "\n",
    "(2 points) In the cell below, find the eigenvectors of $A^T A$, extract the eigenvector corresponding to the smallest eigenvalue, and reshape it into a 3x4 matrix $P$. Print the result. Since $A^T A$ is real and symmetric, you may want to use [`np.linalg.eigh()`](https://numpy.org/doc/stable/reference/generated/numpy.linalg.eigh.html) instead of `np.linalg.eig()` for faster execution.\n",
    "\n",
    "Alternatively, you can choose to perform singular value decomposition on $A$ and recover $P$ from the SVD results."
   ]
  },
  {
   "cell_type": "code",
   "execution_count": null,
   "metadata": {},
   "outputs": [],
   "source": [
    "# TODO\n",
    "\n",
    "np.set_printoptions(precision=5, suppress=True)\n",
    "print(P)"
   ]
  },
  {
   "cell_type": "markdown",
   "metadata": {},
   "source": [
    "(1 point) Now that we have the projection matrix $P$, we can verify that it can map the 3D world coordinates to 2D image coordinates. In the cell below, print the projection results using $P$ along side the original 2D corner coordinates to verify that they are close. "
   ]
  },
  {
   "cell_type": "code",
   "execution_count": null,
   "metadata": {},
   "outputs": [],
   "source": []
  },
  {
   "cell_type": "markdown",
   "metadata": {
    "id": "nNGyufSccXA1"
   },
   "source": [
    "(1 point) Given the projection matrix $P$, we can recover the extrinsic rotation $R$ and the intrinsic matrix $K$ via RQ Decomposition. To do so, first normalize $P$ so the L2 norm of `P[2, :3]` is 1. Print the result."
   ]
  },
  {
   "cell_type": "code",
   "execution_count": null,
   "metadata": {},
   "outputs": [],
   "source": []
  },
  {
   "cell_type": "markdown",
   "metadata": {},
   "source": [
    "(1 point) Using `scipy.linalg.rq()`, decompose `P[:3, :3]` into an upper triangular matrix $K$ and an orthonormal matrix $R$. Print both matrices."
   ]
  },
  {
   "cell_type": "code",
   "execution_count": null,
   "metadata": {},
   "outputs": [],
   "source": [
    "import scipy.linalg\n",
    "K, R = \n",
    "print(K)\n",
    "print(R)"
   ]
  },
  {
   "cell_type": "markdown",
   "metadata": {},
   "source": [
    "You may notice that the intrinsic matrix $K$ has negative values on its diagonal, which does not seem right since the focus length of our camera should be a positive value. This is because `scipy.linalg.rq()` does not force positive diagonal values. We can do so manually by manipulating the matrices a little bit."
   ]
  },
  {
   "cell_type": "code",
   "execution_count": null,
   "metadata": {},
   "outputs": [],
   "source": [
    "S = np.diag(np.sign(np.diag(K)))\n",
    "K = K @ S\n",
    "R = S @ R\n",
    "print(K)\n",
    "print(R)"
   ]
  },
  {
   "cell_type": "markdown",
   "metadata": {
    "id": "IQBKjGj5cn_O"
   },
   "source": [
    "(1 point) Using $K$ we can then recover the extrinsic translation $t$. Do so below, and print the results."
   ]
  },
  {
   "cell_type": "code",
   "execution_count": null,
   "metadata": {
    "id": "PSGLZMIQA7C8"
   },
   "outputs": [],
   "source": []
  }
 ],
 "metadata": {
  "colab": {
   "collapsed_sections": [],
   "name": "Answers (Week 6) Camera Calibration.ipynb",
   "provenance": [],
   "toc_visible": true
  },
  "kernelspec": {
   "display_name": "Python 3 (ipykernel)",
   "language": "python",
   "name": "python3"
  },
  "language_info": {
   "codemirror_mode": {
    "name": "ipython",
    "version": 3
   },
   "file_extension": ".py",
   "mimetype": "text/x-python",
   "name": "python",
   "nbconvert_exporter": "python",
   "pygments_lexer": "ipython3",
   "version": "3.8.13"
  }
 },
 "nbformat": 4,
 "nbformat_minor": 4
}
